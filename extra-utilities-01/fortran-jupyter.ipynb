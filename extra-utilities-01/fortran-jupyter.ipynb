{
 "cells": [
  {
   "cell_type": "code",
   "execution_count": 1,
   "id": "8f8ebdf5-105f-4fa2-bfc6-9704f8e30925",
   "metadata": {
    "tags": []
   },
   "outputs": [
    {
     "name": "stdout",
     "output_type": "stream",
     "text": [
      "Overwriting get_age.f95\n"
     ]
    }
   ],
   "source": [
    "%%writefile get_age.f95\n",
    "\n",
    "program get_age\n",
    "    real :: year, age\n",
    "    print *, 'What year were you born?'\n",
    "    read *, year\n",
    "    age = 2020 - year\n",
    "    print *, 'Your age is', age\n",
    "end program get_age\n",
    "\n"
   ]
  },
  {
   "cell_type": "code",
   "execution_count": null,
   "id": "c32767e0-b865-4cee-bc85-38e49a2fab28",
   "metadata": {},
   "outputs": [],
   "source": [
    "program name\n",
    "end program name"
   ]
  }
 ],
 "metadata": {
  "kernelspec": {
   "display_name": "MyEnv",
   "language": "python",
   "name": "myenv"
  },
  "language_info": {
   "codemirror_mode": {
    "name": "ipython",
    "version": 3
   },
   "file_extension": ".py",
   "mimetype": "text/x-python",
   "name": "python",
   "nbconvert_exporter": "python",
   "pygments_lexer": "ipython3",
   "version": "3.9.17"
  }
 },
 "nbformat": 4,
 "nbformat_minor": 5
}
